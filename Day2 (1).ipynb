{
 "cells": [
  {
   "cell_type": "markdown",
   "id": "d572cc72",
   "metadata": {},
   "source": [
    "# Notes\n",
    "\n",
    "## Part I\n",
    "### Opponent Selection Key: \n",
    "A = Rock , B = Paper , C = Scissors\n",
    "\n",
    "### Player Selection Key: \n",
    "X = Rock , Y = Paper , Z = Scissors\n",
    "\n",
    "### Selection Point Key: \n",
    "Rock = 1 , Paper = 2 , Scissors = 3\n",
    "\n",
    "### Result Point Key\n",
    "Win, Loss, Tie Points: Win = 6 , Tie = 3 , Loss = 0\n",
    "\n",
    "## Part II\n",
    "### Required Result Key\n",
    "X = Loss , Y = Tie , Z = Win"
   ]
  },
  {
   "cell_type": "code",
   "execution_count": 88,
   "id": "553a32d9",
   "metadata": {},
   "outputs": [],
   "source": [
    "# Import Libraries\n",
    "import pandas as pd"
   ]
  },
  {
   "cell_type": "code",
   "execution_count": 89,
   "id": "7628c43f",
   "metadata": {},
   "outputs": [],
   "source": [
    "# Read in dataset\n",
    "df = pd.read_excel(r'filepath\\day2.xlsx')\n",
    "dataset = df['Games']"
   ]
  },
  {
   "cell_type": "code",
   "execution_count": 90,
   "id": "858724c0",
   "metadata": {},
   "outputs": [],
   "source": [
    "# Point Lookup Dictonaries\n",
    "points_per_win = {\n",
    "    'W':6,\n",
    "    'T':3,\n",
    "    'L':0\n",
    "}\n",
    "points_per_selection = {\n",
    "    'X':1,\n",
    "    'Y':2,\n",
    "    'Z':3\n",
    "}"
   ]
  },
  {
   "cell_type": "markdown",
   "id": "313143fb",
   "metadata": {},
   "source": [
    "# Part I"
   ]
  },
  {
   "cell_type": "code",
   "execution_count": 91,
   "id": "a8a48b18",
   "metadata": {},
   "outputs": [],
   "source": [
    "# Dictionary for Part I result lookups\n",
    "rps_options_1 = {\n",
    "    'A': {'X':'T','Y':'W','Z':'L'},\n",
    "    'B': {'X':'L','Y':'T','Z':'W'},\n",
    "    'C': {'X':'W','Y':'L','Z':'T'}   \n",
    "}\n"
   ]
  },
  {
   "cell_type": "code",
   "execution_count": 92,
   "id": "b9f798ae",
   "metadata": {},
   "outputs": [],
   "source": [
    "def point_total_part1():\n",
    "    \n",
    "    results_summary = {'W':0,'T':0,'L':0}\n",
    "    points = 0\n",
    "    \n",
    "    for i in dataset:\n",
    "        \n",
    "        k = i.replace(' ','')\n",
    "        letters = [l for l in k] \n",
    "        \n",
    "        req_result = letters[1]\n",
    "        \n",
    "        result = rps_options_1[letters[0]][letters[1]] \n",
    "        results_summary[result] = results_summary[result] + 1 \n",
    "        result_pts = points_per_win[result] \n",
    "        \n",
    "        selection_pts = points_per_selection[letters[1]] \n",
    "        total_pts = result_pts + selection_pts\n",
    "        \n",
    "        points += total_pts \n",
    "    \n",
    "    r1 = f'Results Summary: {results_summary}'\n",
    "    r2 = f'Congratulations, you scored {points} points!'\n",
    "    \n",
    "    return f'{r1}\\n{r2}'"
   ]
  },
  {
   "cell_type": "code",
   "execution_count": 93,
   "id": "c3b410f7",
   "metadata": {},
   "outputs": [
    {
     "name": "stdout",
     "output_type": "stream",
     "text": [
      "Results Summary: {'W': 883, 'T': 1113, 'L': 504}\n",
      "Congratulations, you scored 13924 points!\n"
     ]
    }
   ],
   "source": [
    "print(point_total_part1())"
   ]
  },
  {
   "cell_type": "markdown",
   "id": "8777fa16",
   "metadata": {},
   "source": [
    "# Part II"
   ]
  },
  {
   "cell_type": "code",
   "execution_count": 94,
   "id": "9ac99990",
   "metadata": {},
   "outputs": [],
   "source": [
    "# Dictionaries for Part II result lookups\n",
    "req_result = {\n",
    "    'X':'L',\n",
    "    'Y':'T',\n",
    "    'Z':'W'\n",
    "}\n",
    "\n",
    "rps_options_2 = {\n",
    "    'A': {'T':'X','W':'Y','L':'Z'},\n",
    "    'B': {'L':'X','T':'Y','W':'Z'},\n",
    "    'C': {'W':'X','L':'Y','T':'Z'}   \n",
    "}"
   ]
  },
  {
   "cell_type": "code",
   "execution_count": 95,
   "id": "e855cda0",
   "metadata": {},
   "outputs": [],
   "source": [
    "def point_total_part2():\n",
    "    \n",
    "    results_summary = {'W':0,'T':0,'L':0}\n",
    "    points = 0\n",
    "    \n",
    "    for i in dataset:\n",
    "\n",
    "        k = i.replace(' ','')\n",
    "        letters = [l for l in k] \n",
    "        \n",
    "        outcome = req_result[letters[1]]\n",
    "        results_summary[outcome] = results_summary[outcome] + 1\n",
    "        selection = rps_options_2[letters[0]][outcome]\n",
    "    \n",
    "        result_pts = points_per_win[outcome]\n",
    "        selection_pts = points_per_selection[selection]\n",
    "        total_pts = result_pts + selection_pts\n",
    "        \n",
    "        points += total_pts\n",
    "        \n",
    "    r1 = f'Results Summary: {results_summary}'\n",
    "    r2 = f'Congratulations, you scored {points} points!'\n",
    "    \n",
    "    return f'{r1}\\n{r2}'"
   ]
  },
  {
   "cell_type": "code",
   "execution_count": 96,
   "id": "fe5040c8",
   "metadata": {},
   "outputs": [
    {
     "name": "stdout",
     "output_type": "stream",
     "text": [
      "Results Summary: {'W': 1209, 'T': 369, 'L': 922}\n",
      "Congratulations, you scored 13448 points!\n"
     ]
    }
   ],
   "source": [
    "print(point_total_part2())"
   ]
  }
 ],
 "metadata": {
  "kernelspec": {
   "display_name": "Python 3 (ipykernel)",
   "language": "python",
   "name": "python3"
  },
  "language_info": {
   "codemirror_mode": {
    "name": "ipython",
    "version": 3
   },
   "file_extension": ".py",
   "mimetype": "text/x-python",
   "name": "python",
   "nbconvert_exporter": "python",
   "pygments_lexer": "ipython3",
   "version": "3.9.12"
  }
 },
 "nbformat": 4,
 "nbformat_minor": 5
}
