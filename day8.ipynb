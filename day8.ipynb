{
 "cells": [
  {
   "cell_type": "code",
   "execution_count": 149,
   "id": "24175693",
   "metadata": {},
   "outputs": [],
   "source": [
    "import pandas as pd"
   ]
  },
  {
   "cell_type": "code",
   "execution_count": 150,
   "id": "e734dfb2",
   "metadata": {},
   "outputs": [],
   "source": [
    "# Read in dataset\n",
    "df = pd.read_excel(r'C:\\Users\\amorrow\\Documents\\adventOfCode\\Datasets\\day8.xlsx')\n",
    "dataset = df['treeHeights']"
   ]
  },
  {
   "cell_type": "markdown",
   "id": "82c9f9da",
   "metadata": {},
   "source": [
    "# Part I"
   ]
  },
  {
   "cell_type": "code",
   "execution_count": 151,
   "id": "2c4ae53d",
   "metadata": {},
   "outputs": [],
   "source": [
    "def parse_df(df):\n",
    "    \n",
    "    lst = []\n",
    "    \n",
    "    for i in df:\n",
    "        splitval = list(i)\n",
    "        lst.append(splitval)\n",
    "        \n",
    "    return lst"
   ]
  },
  {
   "cell_type": "code",
   "execution_count": 152,
   "id": "80678c8b",
   "metadata": {},
   "outputs": [],
   "source": [
    "def arrdims(lst):\n",
    "    dims = []\n",
    "    dims.append(int(len(lst)))\n",
    "    dims.append((len(lst[0])))\n",
    "    \n",
    "    return dims # rows x cols"
   ]
  },
  {
   "cell_type": "code",
   "execution_count": 153,
   "id": "e4d34adc",
   "metadata": {},
   "outputs": [],
   "source": [
    "def traverseUpDown(df,indx,val):\n",
    "    \n",
    "    lst = []\n",
    "    req = int(len(df))\n",
    "    dims = arrdims(df)\n",
    "    n = int(dims[0])\n",
    "    m = int(dims[1])\n",
    "    \n",
    "    for i in range(0,n):\n",
    "        for j in range(0,m):\n",
    "            if j == indx and int(df[i][j]) < val:\n",
    "                lst.append(int(df[i][j]))\n",
    "                \n",
    "    return req==int(len(lst))  "
   ]
  },
  {
   "cell_type": "code",
   "execution_count": 173,
   "id": "a7bff9aa",
   "metadata": {},
   "outputs": [],
   "source": [
    "def traverseLeftRight(df,val):\n",
    "    \n",
    "    lst = []\n",
    "    req = int(len(df))\n",
    "    \n",
    "    for i in range(0,req):\n",
    "        if int(df[i]) < int(val):\n",
    "            lst.append(int(df[i]))\n",
    "            \n",
    "    return req==int(len(lst))  "
   ]
  },
  {
   "cell_type": "code",
   "execution_count": 168,
   "id": "cad5c0d1",
   "metadata": {},
   "outputs": [],
   "source": [
    "def traverseArray(df):\n",
    "    \n",
    "    counter = 0\n",
    "    dims = arrdims(df)\n",
    "    n = int(dims[0])\n",
    "    m = int(dims[1])\n",
    "    \n",
    "    for i in range(0,n):\n",
    "        if i == 0 or i == n-1:\n",
    "            counter += int(len(df[i]))\n",
    "        else:\n",
    "            \n",
    "            for j in range(0,m):\n",
    "                if j == 0 or j == m-1:\n",
    "                    counter += 1\n",
    "                else:\n",
    "                    visibility = []\n",
    "                    maxVal = int(df[i][j])\n",
    "                    \n",
    "                    up = df[0:i]\n",
    "                    traversalUp = traverseUpDown(up,j,maxVal)\n",
    "                    visibility.append(traversalUp)\n",
    "                    \n",
    "                    down = df[i+1:]\n",
    "                    traversalDown = traverseUpDown(down,j,maxVal)\n",
    "                    visibility.append(traversalDown)\n",
    "                    \n",
    "                    left = df[i][0:int(j)]\n",
    "                    traversalLeft = traverseLeftRight(left,maxVal)\n",
    "                    visibility.append(traversalLeft)\n",
    "                    \n",
    "                    right = df[i][(int(j)+1):]\n",
    "                    traversalRight = traverseLeftRight(right,maxVal)\n",
    "                    visibility.append(traversalRight)\n",
    "                    \n",
    "                    if True in visibility:\n",
    "                        counter += 1\n",
    "                     \n",
    "    return counter"
   ]
  },
  {
   "cell_type": "code",
   "execution_count": 200,
   "id": "3e84fd84",
   "metadata": {},
   "outputs": [],
   "source": [
    "def main_p1(df):\n",
    "    \n",
    "    counter = 0\n",
    "    parsed_df = parse_df(df)\n",
    "    counter += traverseArray(parsed_df)\n",
    "    \n",
    "    return f'{counter:,} trees are visible within the 2D array.'"
   ]
  },
  {
   "cell_type": "code",
   "execution_count": 201,
   "id": "c0408327",
   "metadata": {},
   "outputs": [
    {
     "name": "stdout",
     "output_type": "stream",
     "text": [
      "1,708 trees are visible within the 2D array.\n"
     ]
    }
   ],
   "source": [
    "print(main_p1(dataset))"
   ]
  },
  {
   "cell_type": "markdown",
   "id": "89ffe246",
   "metadata": {},
   "source": [
    "# Part II"
   ]
  },
  {
   "cell_type": "code",
   "execution_count": 192,
   "id": "d550441d",
   "metadata": {},
   "outputs": [],
   "source": [
    "def traverseVertical(df,indx):\n",
    "    \n",
    "    lst = []\n",
    "    dims = arrdims(df)\n",
    "    n = int(dims[0])\n",
    "    m = int(dims[1])\n",
    "    \n",
    "    for i in range(0,n):\n",
    "        for j in range(0,m):\n",
    "            if j == indx:\n",
    "                lst.append(df[i][j])\n",
    "                \n",
    "    return lst"
   ]
  },
  {
   "cell_type": "code",
   "execution_count": 193,
   "id": "b0999ef3",
   "metadata": {},
   "outputs": [],
   "source": [
    "def counterHelper(df,maxVal):\n",
    "    \n",
    "    counter = 0\n",
    "    \n",
    "    for i in range(0,int(len(df))):\n",
    "        if int(df[i]) < int(maxVal):\n",
    "            counter += 1\n",
    "        elif int(df[i]) == int(maxVal):\n",
    "            counter += 1\n",
    "            break\n",
    "        else:\n",
    "            counter += 1\n",
    "            break\n",
    "            \n",
    "    return counter"
   ]
  },
  {
   "cell_type": "code",
   "execution_count": 194,
   "id": "accb5a7a",
   "metadata": {},
   "outputs": [],
   "source": [
    "def score(lst):\n",
    "    \n",
    "    score = 1\n",
    "    \n",
    "    for i in lst:\n",
    "        score = score*i\n",
    "        \n",
    "    return score"
   ]
  },
  {
   "cell_type": "code",
   "execution_count": 202,
   "id": "011f5745",
   "metadata": {},
   "outputs": [],
   "source": [
    "def traverseArray2(df):\n",
    "    \n",
    "    maxVisibility = 0\n",
    "    dims = arrdims(df)\n",
    "    n = int(dims[0])\n",
    "    m = int(dims[1])\n",
    "    \n",
    "    for i in range(0,n):\n",
    "        if i == 0 or i == n-1:\n",
    "            continue\n",
    "        else:      \n",
    "            for j in range(0,m):\n",
    "                if j == 0 or j == m-1:\n",
    "                    continue\n",
    "                else:\n",
    "                    \n",
    "                    visibility = []\n",
    "                    maxVal = df[i][j]\n",
    "                    \n",
    "                    up = df[0:i]\n",
    "                    reverseUp = up[::-1]\n",
    "                    traversalUp = traverseVertical(reverseUp,j)\n",
    "                    countUp = counterHelper(traversalUp,maxVal)\n",
    "                    visibility.append(int(countUp))\n",
    "                    \n",
    "                    down = df[i+1:]\n",
    "                    traversalDown = traverseVertical(down,j)\n",
    "                    countDown = counterHelper(traversalDown,maxVal)\n",
    "                    visibility.append(int(countDown))\n",
    "                    \n",
    "                    left = df[i][0:int(j)]\n",
    "                    reverseLeft = left[::-1]\n",
    "                    countLeft = counterHelper(reverseLeft,maxVal)\n",
    "                    visibility.append(int(countLeft))\n",
    "                    \n",
    "                    right = df[i][(int(j)+1):]\n",
    "                    countRight = counterHelper(right,maxVal)\n",
    "                    visibility.append(int(countRight))\n",
    "                    \n",
    "                    visibilityScore = score(visibility)\n",
    "                    \n",
    "                    if visibilityScore > maxVisibility:\n",
    "                        maxVisibility = visibilityScore                    \n",
    "                        \n",
    "    return maxVisibility"
   ]
  },
  {
   "cell_type": "code",
   "execution_count": 203,
   "id": "62e42f02",
   "metadata": {},
   "outputs": [],
   "source": [
    "def main_p2(df):\n",
    "    \n",
    "    parsed_df = parse_df(df)\n",
    "    maxVisibility = traverseArray2(parsed_df)\n",
    "    \n",
    "    return f'Max Visibility Score is: {maxVisibility:,}'"
   ]
  },
  {
   "cell_type": "code",
   "execution_count": 204,
   "id": "ecc0ff61",
   "metadata": {},
   "outputs": [
    {
     "name": "stdout",
     "output_type": "stream",
     "text": [
      "Max Visibility Score is: 504,000\n"
     ]
    }
   ],
   "source": [
    "print(main_p2(dataset))"
   ]
  }
 ],
 "metadata": {
  "kernelspec": {
   "display_name": "Python 3 (ipykernel)",
   "language": "python",
   "name": "python3"
  },
  "language_info": {
   "codemirror_mode": {
    "name": "ipython",
    "version": 3
   },
   "file_extension": ".py",
   "mimetype": "text/x-python",
   "name": "python",
   "nbconvert_exporter": "python",
   "pygments_lexer": "ipython3",
   "version": "3.9.12"
  }
 },
 "nbformat": 4,
 "nbformat_minor": 5
}
