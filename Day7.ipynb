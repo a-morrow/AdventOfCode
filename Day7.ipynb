{
 "cells": [
  {
   "cell_type": "code",
   "execution_count": 3,
   "id": "0c4d01da",
   "metadata": {},
   "outputs": [],
   "source": [
    "import pandas as pd\n",
    "import copy"
   ]
  },
  {
   "cell_type": "code",
   "execution_count": 4,
   "id": "d0e4137a",
   "metadata": {},
   "outputs": [],
   "source": [
    "# Read in dataset\n",
    "df = pd.read_excel(r'filepath\\day7.xlsx')\n",
    "dataset = df['Directory']"
   ]
  },
  {
   "cell_type": "code",
   "execution_count": 5,
   "id": "c1dd7aa2",
   "metadata": {},
   "outputs": [],
   "source": [
    "filter_val = 100000\n",
    "output_dir = {}"
   ]
  },
  {
   "cell_type": "code",
   "execution_count": 11,
   "id": "14e2ef80",
   "metadata": {},
   "outputs": [],
   "source": [
    "def directory_space_1(d,filterVal):\n",
    "    \n",
    "    size = {}\n",
    "    p_dirs = []\n",
    "    \n",
    "    for i in list(d):\n",
    "#        print('-----------------------')\n",
    "        row = i.split(' ') #split each row into list i.e '$ cd /' -> ['$','cd','/']\n",
    "        \n",
    "        if row[0] == '$':\n",
    "            \n",
    "            if row[1] == 'cd' and row[2] not in ['..']:\n",
    "                p_dirs.append(row[2])\n",
    "                size['/'.join(p_dirs)] = 0\n",
    "#                 print(p_dirs)\n",
    "#                 print(size)\n",
    "                \n",
    "            elif row[1] == 'cd' and row[2] == '..':\n",
    "                p_dirs.pop()\n",
    "                \n",
    "        elif row[0].isdigit():\n",
    "            \n",
    "            temp = p_dirs.copy()\n",
    "            \n",
    "            while len(temp) > 0:\n",
    "                \n",
    "                size['/'.join(temp)] += int(row[0])\n",
    "                temp.pop()\n",
    "                \n",
    "    all_dirs = {k:v for (k,v) in size.items()}\n",
    "    output_dir.update(all_dirs)\n",
    "    \n",
    "    filtered_dirs = {k:v for (k,v) in size.items() if v <= filterVal}\n",
    "    sum_filtered_dirs = sum(filtered_dirs.values())\n",
    "    \n",
    "    \n",
    "    return f'Filtered Directory Sum (vals <= {filterVal:,}): {sum_filtered_dirs:,}'\n"
   ]
  },
  {
   "cell_type": "code",
   "execution_count": 12,
   "id": "4c531f7f",
   "metadata": {},
   "outputs": [
    {
     "name": "stdout",
     "output_type": "stream",
     "text": [
      "Filtered Directory Sum (vals <= 100,000): 2,031,851\n"
     ]
    }
   ],
   "source": [
    "print(directory_space_1(dataset,filter_val))\n",
    "# print(output_dir)"
   ]
  },
  {
   "cell_type": "code",
   "execution_count": 13,
   "id": "5b4f479c",
   "metadata": {},
   "outputs": [],
   "source": [
    "diskspaceAvail = 70000000\n",
    "updateSize = 30000000"
   ]
  },
  {
   "cell_type": "code",
   "execution_count": 20,
   "id": "32c94dda",
   "metadata": {},
   "outputs": [],
   "source": [
    "def dir_removal(d,avail,update):\n",
    "    \n",
    "    l = {}\n",
    "    local_dir = copy.deepcopy(d)\n",
    "    outer_val = int(local_dir['/'])\n",
    "    req_space = int(update)\n",
    "    delta = int(req_space - (avail-outer_val))\n",
    "    print(f'Total Disk Space Avail: {avail:,}\\nSys Using: {outer_val:,}\\nUpdate Req: {req_space:,}\\nFree Up: {delta:,}\\n')\n",
    "    \n",
    "    for k,v in local_dir.items():\n",
    "        if v >= delta:\n",
    "            l[k] = v\n",
    "        else:\n",
    "            continue\n",
    "            \n",
    "    min_val = min(l.values())\n",
    "    min_key = [k for k in l if l[k] == min_val]\n",
    "    \n",
    "    return f'Delete: {min_key} to free up space of {min_val:,}\\n\\nOpen Disk Space Now Remaining: {min_val-delta:,}'    "
   ]
  },
  {
   "cell_type": "code",
   "execution_count": 21,
   "id": "389e1a6e",
   "metadata": {},
   "outputs": [
    {
     "name": "stdout",
     "output_type": "stream",
     "text": [
      "Total Disk Space Avail: 70,000,000\n",
      "Sys Using: 42,558,312\n",
      "Update Req: 30,000,000\n",
      "Free Up: 2,558,312\n",
      "\n",
      "Delete: ['//hqdssf/sfccfsrd/zmrt'] to free up space of 2,568,781\n",
      "\n",
      "Open Disk Space Now Remaining: 10,469\n"
     ]
    }
   ],
   "source": [
    "print(dir_removal(output_dir,diskspaceAvail,updateSize))"
   ]
  },
  {
   "cell_type": "code",
   "execution_count": null,
   "id": "dbc31b41",
   "metadata": {},
   "outputs": [],
   "source": []
  }
 ],
 "metadata": {
  "kernelspec": {
   "display_name": "Python 3 (ipykernel)",
   "language": "python",
   "name": "python3"
  },
  "language_info": {
   "codemirror_mode": {
    "name": "ipython",
    "version": 3
   },
   "file_extension": ".py",
   "mimetype": "text/x-python",
   "name": "python",
   "nbconvert_exporter": "python",
   "pygments_lexer": "ipython3",
   "version": "3.9.12"
  }
 },
 "nbformat": 4,
 "nbformat_minor": 5
}
