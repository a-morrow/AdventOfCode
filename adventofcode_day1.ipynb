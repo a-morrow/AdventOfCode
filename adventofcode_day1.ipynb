{
 "cells": [
  {
   "cell_type": "code",
   "execution_count": 130,
   "id": "09541802",
   "metadata": {
    "pycharm": {
     "name": "#%%\n"
    }
   },
   "outputs": [],
   "source": [
    "# Package Imports\n",
    "import pandas as pd\n",
    "import matplotlib.pyplot as plt"
   ]
  },
  {
   "cell_type": "code",
   "execution_count": 134,
   "id": "bccf71ae",
   "metadata": {
    "pycharm": {
     "name": "#%%\n"
    }
   },
   "outputs": [],
   "source": [
    "# Read in Dataset\n",
    "df = pd.read_excel(r'C:\\Users\\amorrow\\Documents\\adventOfCode\\Datasets\\day1.xlsx')\n",
    "dataset = df['ColA']"
   ]
  },
  {
   "cell_type": "code",
   "execution_count": 135,
   "id": "4fe7a69c",
   "metadata": {
    "pycharm": {
     "name": "#%%\n"
    }
   },
   "outputs": [],
   "source": [
    "# Loop through dataset, extract total cals/elf, return elf with max cals\n",
    "def elf_foodcals():\n",
    "    \n",
    "    elfs = {}\n",
    "    cal_sum = 0\n",
    "    elf_num = 1\n",
    "    \n",
    "    for i in dataset:\n",
    "        if pd.isnull(i):\n",
    "            elfs[elf_num] = cal_sum\n",
    "            cal_sum = 0\n",
    "            elf_num += 1\n",
    "        else:\n",
    "            cal_sum += i\n",
    "            \n",
    "    max_cals = int(max(elfs.values()))\n",
    "    elf = max(elfs, key=elfs.get)\n",
    "            \n",
    "    return f'Elf#{elf} is carrying {int(max(elfs.values()))} calories of food!'   "
   ]
  },
  {
   "cell_type": "code",
   "execution_count": 136,
   "id": "a68cf89f",
   "metadata": {
    "pycharm": {
     "name": "#%%\n"
    }
   },
   "outputs": [
    {
     "name": "stdout",
     "output_type": "stream",
     "text": [
      "Elf#180 is carrying 66719 calories of food!\n"
     ]
    }
   ],
   "source": [
    "print(elf_foodcals())"
   ]
  },
  {
   "cell_type": "code",
   "execution_count": 137,
   "id": "80f39594",
   "metadata": {
    "pycharm": {
     "name": "#%%\n"
    }
   },
   "outputs": [],
   "source": [
    "# Return df for summary statistics\n",
    "def elf_foodcals_df():\n",
    "    \n",
    "    elfs = {}\n",
    "    cal_sum = 0\n",
    "    elf_num = 1\n",
    "    \n",
    "    for i in dataset:\n",
    "        if pd.isnull(i):\n",
    "            elfs[elf_num] = cal_sum\n",
    "            cal_sum = 0\n",
    "            elf_num += 1\n",
    "        else:\n",
    "            cal_sum += i\n",
    "            \n",
    "    df = pd.DataFrame({'Elf_Num' : elfs.keys() , 'Total_Cals' : elfs.values() })            \n",
    "    return df"
   ]
  },
  {
   "cell_type": "code",
   "execution_count": 138,
   "id": "863a2e1e",
   "metadata": {
    "pycharm": {
     "name": "#%%\n"
    }
   },
   "outputs": [
    {
     "name": "stdout",
     "output_type": "stream",
     "text": [
      "count      246.000000\n",
      "mean     47335.199187\n",
      "std      10026.510065\n",
      "min       8542.000000\n",
      "25%      42060.250000\n",
      "50%      47676.000000\n",
      "75%      53751.000000\n",
      "max      66719.000000\n",
      "Name: Total_Cals, dtype: float64\n"
     ]
    },
    {
     "data": {
      "text/plain": [
       "<AxesSubplot:ylabel='Frequency'>"
      ]
     },
     "execution_count": 138,
     "metadata": {},
     "output_type": "execute_result"
    },
    {
     "data": {
      "image/png": "[encoded data removed]",
      "text/plain": [
       "<Figure size 432x288 with 1 Axes>"
      ]
     },
     "metadata": {
      "needs_background": "light"
     },
     "output_type": "display_data"
    }
   ],
   "source": [
    "# Summary Statistics / Histogram\n",
    "df2 = elf_foodcals_df()\n",
    "print(df2['Total_Cals'].describe())\n",
    "df2['Total_Cals'].plot(kind='hist', edgecolor='black')"
   ]
  },
  {
   "cell_type": "code",
   "execution_count": null,
   "id": "9798ca40",
   "metadata": {
    "pycharm": {
     "name": "#%%\n"
    }
   },
   "outputs": [],
   "source": []
  }
 ],
 "metadata": {
  "kernelspec": {
   "display_name": "Python 3 (ipykernel)",
   "language": "python",
   "name": "python3"
  },
  "language_info": {
   "codemirror_mode": {
    "name": "ipython",
    "version": 3
   },
   "file_extension": ".py",
   "mimetype": "text/x-python",
   "name": "python",
   "nbconvert_exporter": "python",
   "pygments_lexer": "ipython3",
   "version": "3.9.12"
  }
 },
 "nbformat": 4,
 "nbformat_minor": 5
}