{
 "cells": [
  {
   "cell_type": "code",
   "execution_count": 98,
   "id": "02bfda7d",
   "metadata": {},
   "outputs": [],
   "source": [
    "# Read text file contaning puzzle import\n",
    "f = open(r'filepath\\day6.txt')\n",
    "content = f.read()\n",
    "f.close()"
   ]
  },
  {
   "cell_type": "markdown",
   "id": "aa84495c",
   "metadata": {},
   "source": [
    "# Part I & Part II\n",
    "\n",
    "## Search for unique substrings in text\n",
    "\n",
    "### Part I: Unique set of 4 characters\n",
    "### Part II: Unique set of 14 characters"
   ]
  },
  {
   "cell_type": "code",
   "execution_count": 99,
   "id": "e5c99ebd",
   "metadata": {},
   "outputs": [],
   "source": [
    "# s -> str input\n",
    "# n -> unique number size\n",
    "def marker_num_detector(s,n):\n",
    "\n",
    "    s_list = [i for i in s] # parse text into list for easy indexing/comparison\n",
    "    start = 0\n",
    "    stop = n\n",
    "    s1 = ''\n",
    "    \n",
    "    flag = True\n",
    "    while flag:\n",
    "        \n",
    "        l1 = s_list[start:stop]\n",
    "        \n",
    "        if len(l1) == len(set(l1)):\n",
    "            s1 = ''.join(map(str,l1))\n",
    "            flag = False\n",
    "        else:\n",
    "            start += 1\n",
    "            stop += 1\n",
    "    \n",
    "    process_percent = round((int(stop)/int(len(s_list))),3)*100\n",
    "    \n",
    "    return f'{stop} characters must be processed!\\nUnique String Detected: {s1}\\nProcessed {process_percent}% of dataset\\n'    "
   ]
  },
  {
   "cell_type": "code",
   "execution_count": 100,
   "id": "919ef984",
   "metadata": {},
   "outputs": [
    {
     "name": "stdout",
     "output_type": "stream",
     "text": [
      "1802 characters must be processed!\n",
      "Unique String Detected: srtm\n",
      "Processed 44.0% of dataset\n",
      "\n",
      "3551 characters must be processed!\n",
      "Unique String Detected: dhlszqjmcbnwrp\n",
      "Processed 86.7% of dataset\n",
      "\n"
     ]
    }
   ],
   "source": [
    "print(marker_num_detector(content,4))\n",
    "print(marker_num_detector(content,14))"
   ]
  }
 ],
 "metadata": {
  "kernelspec": {
   "display_name": "Python 3 (ipykernel)",
   "language": "python",
   "name": "python3"
  },
  "language_info": {
   "codemirror_mode": {
    "name": "ipython",
    "version": 3
   },
   "file_extension": ".py",
   "mimetype": "text/x-python",
   "name": "python",
   "nbconvert_exporter": "python",
   "pygments_lexer": "ipython3",
   "version": "3.9.12"
  }
 },
 "nbformat": 4,
 "nbformat_minor": 5
}
