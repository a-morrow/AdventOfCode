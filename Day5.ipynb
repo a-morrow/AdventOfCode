{
 "cells": [
  {
   "cell_type": "code",
   "execution_count": 251,
   "id": "29f64252",
   "metadata": {},
   "outputs": [],
   "source": [
    "import pandas as pd\n",
    "import copy"
   ]
  },
  {
   "cell_type": "code",
   "execution_count": 252,
   "id": "e0b3591f",
   "metadata": {},
   "outputs": [],
   "source": [
    "# Read in dataset\n",
    "df = pd.read_excel(r'filepath\\day5.xlsx')\n",
    "dataset = df['Instructions']"
   ]
  },
  {
   "cell_type": "code",
   "execution_count": 253,
   "id": "93221a16",
   "metadata": {},
   "outputs": [],
   "source": [
    "initial_stack = {\n",
    "    1:['N','R','G','P'],\n",
    "    2:['J','T','B','L','F','G','D','C'],\n",
    "    3:['M','S','V'],\n",
    "    4:['L','S','R','C','Z','P'],\n",
    "    5:['P','S','L','V','C','W','D','Q'],\n",
    "    6:['C','T','N','W','D','M','S'],\n",
    "    7:['H','D','G','W','P'],\n",
    "    8:['Z','L','P','H','S','C','M','V'],\n",
    "    9:['R','P','F','L','W','G','Z']\n",
    "}\n"
   ]
  },
  {
   "cell_type": "markdown",
   "id": "77abe83c",
   "metadata": {},
   "source": [
    "# Part I"
   ]
  },
  {
   "cell_type": "code",
   "execution_count": 254,
   "id": "9c78ceb8",
   "metadata": {},
   "outputs": [],
   "source": [
    "def parse_instructions(instructions):\n",
    "    \n",
    "    instr_parse = instructions.split(' ')\n",
    "    instr = [l for l in instr_parse if l not in ['move','from','to']]\n",
    "    \n",
    "    return instr"
   ]
  },
  {
   "cell_type": "code",
   "execution_count": 255,
   "id": "f6acef1f",
   "metadata": {},
   "outputs": [],
   "source": [
    "def top_crates(d):\n",
    "    \n",
    "    crates = ''\n",
    "    \n",
    "    for i in d:\n",
    "        try:\n",
    "      \n",
    "            top = d[i].pop()\n",
    "            crates += str(top)\n",
    "            \n",
    "        except IndexError:\n",
    "            continue\n",
    "        \n",
    "    return crates  "
   ]
  },
  {
   "cell_type": "code",
   "execution_count": 256,
   "id": "c1ef2142",
   "metadata": {},
   "outputs": [],
   "source": [
    "def move_crates(initialStack,instructions):\n",
    "    \n",
    "    stack = copy.deepcopy(initialStack)\n",
    "    \n",
    "    for i in instructions:\n",
    "        \n",
    "        steps_l = parse_instructions(i)\n",
    "        move_num = int(steps_l[0])\n",
    "        from_stack = int(steps_l[1])\n",
    "        to_stack = int(steps_l[2])\n",
    "        \n",
    "        counter = 1\n",
    "        while counter <= move_num:\n",
    "            \n",
    "            v1 = stack[from_stack].pop()\n",
    "            stack[to_stack].append(v1)\n",
    "            counter += 1\n",
    "    \n",
    "    topCrates = top_crates(stack)\n",
    "    \n",
    "    return f'Top Crates: {topCrates}'"
   ]
  },
  {
   "cell_type": "code",
   "execution_count": 257,
   "id": "8f1eeec4",
   "metadata": {},
   "outputs": [
    {
     "name": "stdout",
     "output_type": "stream",
     "text": [
      "Top Crates: VPCDMSLWJ\n"
     ]
    }
   ],
   "source": [
    "print(move_crates(initial_stack,dataset))"
   ]
  },
  {
   "cell_type": "markdown",
   "id": "da9d4c01",
   "metadata": {},
   "source": [
    "# Part II"
   ]
  },
  {
   "cell_type": "code",
   "execution_count": 264,
   "id": "7d5b89b8",
   "metadata": {},
   "outputs": [],
   "source": [
    "def move_crates_2(initialStack,instructions):\n",
    "    \n",
    "    stack = copy.deepcopy(initialStack)\n",
    "\n",
    "    for i in instructions:\n",
    "        \n",
    "        steps_l = parse_instructions(i)\n",
    "        move_num = int(steps_l[0])\n",
    "        from_stack = int(steps_l[1])\n",
    "        to_stack = int(steps_l[2])\n",
    "        \n",
    "        try: \n",
    "            if move_num == 1:\n",
    "                v1 = stack[from_stack].pop()\n",
    "                #print(v1)\n",
    "                #print(stack[to_stack])\n",
    "                stack[to_stack].append(v1)\n",
    "                #print(stack[to_stack])\n",
    "            \n",
    "            else:\n",
    "                v1 = stack[from_stack][-move_num:]\n",
    "                stack[to_stack].extend(v1)\n",
    "                del stack[from_stack][-move_num:]\n",
    "\n",
    "        except IndexError:\n",
    "            print(i)\n",
    "            continue\n",
    "    \n",
    "    topCrates = top_crates(stack)\n",
    "\n",
    "    return f'Updated Top Crates: {topCrates}'"
   ]
  },
  {
   "cell_type": "code",
   "execution_count": 265,
   "id": "f0d528e0",
   "metadata": {
    "scrolled": true
   },
   "outputs": [
    {
     "name": "stdout",
     "output_type": "stream",
     "text": [
      "Updated Top Crates: TPWCGNCCG\n"
     ]
    }
   ],
   "source": [
    "print(move_crates_2(initial_stack,dataset))"
   ]
  }
 ],
 "metadata": {
  "kernelspec": {
   "display_name": "Python 3 (ipykernel)",
   "language": "python",
   "name": "python3"
  },
  "language_info": {
   "codemirror_mode": {
    "name": "ipython",
    "version": 3
   },
   "file_extension": ".py",
   "mimetype": "text/x-python",
   "name": "python",
   "nbconvert_exporter": "python",
   "pygments_lexer": "ipython3",
   "version": "3.9.12"
  }
 },
 "nbformat": 4,
 "nbformat_minor": 5
}
