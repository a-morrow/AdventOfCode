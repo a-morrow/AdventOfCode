{
 "cells": [
  {
   "cell_type": "code",
   "execution_count": 82,
   "id": "81829e2a",
   "metadata": {},
   "outputs": [],
   "source": [
    "import pandas as pd"
   ]
  },
  {
   "cell_type": "code",
   "execution_count": 83,
   "id": "16923530",
   "metadata": {},
   "outputs": [],
   "source": [
    "# Read in dataset\n",
    "df = pd.read_excel(r'C:\\Users\\amorrow\\Documents\\adventOfCode\\Datasets\\day4.xlsx')\n",
    "dataset = df['Sections']"
   ]
  },
  {
   "cell_type": "markdown",
   "id": "ca2ec264",
   "metadata": {},
   "source": [
    "# Part I"
   ]
  },
  {
   "cell_type": "code",
   "execution_count": 84,
   "id": "baafc456",
   "metadata": {},
   "outputs": [],
   "source": [
    "# Parse sections into lists using \",\" as delimiter and indexes to specify start/stop for vals\n",
    "def parse_sections(s):\n",
    "    \n",
    "    l = []\n",
    "    sections = s.split(',')\n",
    "    \n",
    "    for i in sections:\n",
    "        parse_num = i.split('-')\n",
    "        start = int(parse_num[0])\n",
    "        stop = int(parse_num[1])+1\n",
    "        valRange = [i for i in range(start,stop)]\n",
    "        l.append(valRange)\n",
    "        \n",
    "    return l"
   ]
  },
  {
   "cell_type": "code",
   "execution_count": 85,
   "id": "b4d441e8",
   "metadata": {},
   "outputs": [],
   "source": [
    "# Compare parsed sections using subset method\n",
    "def compare_sections_subset(l):\n",
    "    \n",
    "    count = 0\n",
    "    l1 = l[0]\n",
    "    l2 = l[1]\n",
    "    \n",
    "    if set(l1).issubset(set(l2)) or set(l2).issubset(set(l1)):\n",
    "        count += 1\n",
    "    else:\n",
    "        pass\n",
    "    \n",
    "    return count"
   ]
  },
  {
   "cell_type": "code",
   "execution_count": 86,
   "id": "c74382aa",
   "metadata": {},
   "outputs": [],
   "source": [
    "def p1_main(df):\n",
    "    \n",
    "    total = 0\n",
    "    \n",
    "    for i in dataset:\n",
    "        \n",
    "        parse = parse_sections(i)\n",
    "        compare = compare_sections_subset(parse)\n",
    "        total += compare\n",
    "        \n",
    "    return f'Total Overlapping Assignments Count: {total}'"
   ]
  },
  {
   "cell_type": "code",
   "execution_count": 87,
   "id": "617c526b",
   "metadata": {},
   "outputs": [
    {
     "name": "stdout",
     "output_type": "stream",
     "text": [
      "Total Overlapping Assignments Count: 509\n"
     ]
    }
   ],
   "source": [
    "print(p1_main(dataset))"
   ]
  },
  {
   "cell_type": "markdown",
   "id": "159dca8b",
   "metadata": {},
   "source": [
    "# Part II"
   ]
  },
  {
   "cell_type": "code",
   "execution_count": 91,
   "id": "48a00e65",
   "metadata": {},
   "outputs": [],
   "source": [
    "def compare_section_commonality(l):\n",
    "    \n",
    "    count = 0\n",
    "    l1 = l[0]\n",
    "    l2 = l[1]\n",
    "    \n",
    "    if any(i in l1 for i in l2): # Check if any values in l1 are in l2, implictily implies the reverse\n",
    "        count += 1\n",
    "    else:\n",
    "        pass\n",
    "    \n",
    "    return count"
   ]
  },
  {
   "cell_type": "code",
   "execution_count": 92,
   "id": "65089043",
   "metadata": {},
   "outputs": [],
   "source": [
    "def p2_main(df):\n",
    "    \n",
    "    total = 0\n",
    "    \n",
    "    for i in dataset:\n",
    "        \n",
    "        parse = parse_sections(i)\n",
    "        compare = compare_section_commonality(parse)\n",
    "        total += compare\n",
    "    \n",
    "    return f'Total Assignments With Similarity Count: {total}'"
   ]
  },
  {
   "cell_type": "code",
   "execution_count": 94,
   "id": "c54c3174",
   "metadata": {},
   "outputs": [
    {
     "name": "stdout",
     "output_type": "stream",
     "text": [
      "Total Assignments With Similarity Count: 870\n"
     ]
    }
   ],
   "source": [
    "print(p2_main(dataset))"
   ]
  }
 ],
 "metadata": {
  "kernelspec": {
   "display_name": "Python 3 (ipykernel)",
   "language": "python",
   "name": "python3"
  },
  "language_info": {
   "codemirror_mode": {
    "name": "ipython",
    "version": 3
   },
   "file_extension": ".py",
   "mimetype": "text/x-python",
   "name": "python",
   "nbconvert_exporter": "python",
   "pygments_lexer": "ipython3",
   "version": "3.9.12"
  }
 },
 "nbformat": 4,
 "nbformat_minor": 5
}
