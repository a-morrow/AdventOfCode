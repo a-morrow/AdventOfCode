{
 "cells": [
  {
   "cell_type": "code",
   "execution_count": 66,
   "id": "71d05459",
   "metadata": {},
   "outputs": [],
   "source": [
    "# Import Libraries\n",
    "import pandas as pd"
   ]
  },
  {
   "cell_type": "code",
   "execution_count": 67,
   "id": "c7af782b",
   "metadata": {},
   "outputs": [],
   "source": [
    "# Read in dataset\n",
    "df = pd.read_excel(r'C:\\Users\\amorrow\\Documents\\adventOfCode\\Datasets\\day2.xlsx')\n",
    "dataset = df['Games']"
   ]
  },
  {
   "cell_type": "code",
   "execution_count": 69,
   "id": "183b83c7",
   "metadata": {},
   "outputs": [],
   "source": [
    "# Point Lookup Dictonaries\n",
    "points_per_win = {\n",
    "    'W':6,\n",
    "    'T':3,\n",
    "    'L':0\n",
    "}\n",
    "points_per_selection = {\n",
    "    'X':1,\n",
    "    'Y':2,\n",
    "    'Z':3\n",
    "}"
   ]
  },
  {
   "cell_type": "markdown",
   "id": "2e47d9d9",
   "metadata": {},
   "source": [
    "# Part I"
   ]
  },
  {
   "cell_type": "markdown",
   "id": "b7ba724c",
   "metadata": {},
   "source": [
    "Rock, Paper, Scissor Key (Opponent):\n",
    "A - Rock / B - Paper / C - Scissors\n",
    "\n",
    "Rock, Paper, Scissor Key (Player)\n",
    "X - Rock / Y - Paper / Z - Scissors\n",
    "\n",
    "Rock, Paper, Scissor Points:\n",
    "Rock = 1 / Paper = 2 / Scissors = 3\n",
    "\n",
    "Win, Loss, Tie Points:\n",
    "Win = 6 / Tie = 3 / Loss = 0\n",
    "\n",
    "Part II:\n",
    "\n",
    "X - Loss / Y - Tie / Z - Win"
   ]
  },
  {
   "cell_type": "code",
   "execution_count": 70,
   "id": "317c2adf",
   "metadata": {},
   "outputs": [],
   "source": [
    "# Dictionary for Part I result lookups\n",
    "rps_options_1 = {\n",
    "    'A': {'X':'T','Y':'W','Z':'L'},\n",
    "    'B': {'X':'L','Y':'T','Z':'W'},\n",
    "    'C': {'X':'W','Y':'L','Z':'T'}   \n",
    "}\n"
   ]
  },
  {
   "cell_type": "code",
   "execution_count": 71,
   "id": "1469d69f",
   "metadata": {},
   "outputs": [],
   "source": [
    "def point_total_part1():\n",
    "    \n",
    "    points = 0\n",
    "    \n",
    "    for i in dataset:\n",
    "        \n",
    "        k = i.replace(' ','')\n",
    "        letters = [l for l in k] # Parse string into list\n",
    "        \n",
    "        req_result = letters[1]\n",
    "        \n",
    "        result = rps_options_1[letters[0]][letters[1]] # Lookup result\n",
    "        result_pts = points_per_win[result] # Lookup result pt outcome\n",
    "        \n",
    "        selection_pts = points_per_selection[letters[1]] # Lookup points based on selection\n",
    "        total_pts = result_pts + selection_pts # Agg points (result + selection)\n",
    "        \n",
    "        points += total_pts # Add points to cumulative pt total\n",
    "        \n",
    "    return f'Congratulations, you scored {points} points!'"
   ]
  },
  {
   "cell_type": "code",
   "execution_count": 72,
   "id": "8998e9f5",
   "metadata": {},
   "outputs": [
    {
     "name": "stdout",
     "output_type": "stream",
     "text": [
      "Congratulations, you scored 13924 points!\n"
     ]
    }
   ],
   "source": [
    "print(point_total_part1())"
   ]
  },
  {
   "cell_type": "markdown",
   "id": "7e082d60",
   "metadata": {},
   "source": [
    "# Part II"
   ]
  },
  {
   "cell_type": "code",
   "execution_count": 73,
   "id": "18ae6e04",
   "metadata": {},
   "outputs": [],
   "source": [
    "# Dictionaries for Part II result lookups\n",
    "req_result = {\n",
    "    'X':'L',\n",
    "    'Y':'T',\n",
    "    'Z':'W'\n",
    "}\n",
    "\n",
    "rps_options_2 = {\n",
    "    'A': {'T':'X','W':'Y','L':'Z'},\n",
    "    'B': {'L':'X','T':'Y','W':'Z'},\n",
    "    'C': {'W':'X','L':'Y','T':'Z'}   \n",
    "}"
   ]
  },
  {
   "cell_type": "code",
   "execution_count": 76,
   "id": "204e4193",
   "metadata": {},
   "outputs": [],
   "source": [
    "def point_total_part2():\n",
    "    \n",
    "    points = 0\n",
    "    \n",
    "    for i in dataset:\n",
    "\n",
    "        k = i.replace(' ','')\n",
    "        letters = [l for l in k] \n",
    "        \n",
    "        outcome = req_result[letters[1]]\n",
    "        selection = rps_options_2[letters[0]][outcome]\n",
    "    \n",
    "        result_pts = points_per_win[outcome]\n",
    "        selection_pts = points_per_selection[selection]\n",
    "        total_pts = result_pts + selection_pts\n",
    "        \n",
    "        points += total_pts\n",
    "        \n",
    "    return f'Congratulations, you scored {points} points!'"
   ]
  },
  {
   "cell_type": "code",
   "execution_count": 77,
   "id": "6188216d",
   "metadata": {},
   "outputs": [
    {
     "name": "stdout",
     "output_type": "stream",
     "text": [
      "Congratulations, you scored 13448 points!\n"
     ]
    }
   ],
   "source": [
    "print(point_total_part2())"
   ]
  }
 ],
 "metadata": {
  "kernelspec": {
   "display_name": "Python 3 (ipykernel)",
   "language": "python",
   "name": "python3"
  },
  "language_info": {
   "codemirror_mode": {
    "name": "ipython",
    "version": 3
   },
   "file_extension": ".py",
   "mimetype": "text/x-python",
   "name": "python",
   "nbconvert_exporter": "python",
   "pygments_lexer": "ipython3",
   "version": "3.9.12"
  }
 },
 "nbformat": 4,
 "nbformat_minor": 5
}
