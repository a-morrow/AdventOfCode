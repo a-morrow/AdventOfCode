{
 "cells": [
  {
   "cell_type": "code",
   "execution_count": 85,
   "id": "608876dd",
   "metadata": {},
   "outputs": [],
   "source": [
    "import pandas as pd\n",
    "import string"
   ]
  },
  {
   "cell_type": "code",
   "execution_count": 86,
   "id": "2b9085e4",
   "metadata": {},
   "outputs": [],
   "source": [
    "# Read in dataset\n",
    "df = pd.read_excel(r'filepath\\day3.xlsx')\n",
    "dataset = df['Compartments']"
   ]
  },
  {
   "cell_type": "code",
   "execution_count": 87,
   "id": "85e4bf81",
   "metadata": {},
   "outputs": [],
   "source": [
    "# Create number/character lists for dict mapping\n",
    "lowercase = list(string.ascii_lowercase)\n",
    "uppercase = list(string.ascii_uppercase)\n",
    "lowercase_vals = [i for i in range(1,27)]\n",
    "uppercase_vals = [i for i in range(27,53)]"
   ]
  },
  {
   "cell_type": "code",
   "execution_count": 88,
   "id": "e623e43b",
   "metadata": {},
   "outputs": [],
   "source": [
    "# Create dicts for lower/uppercase characters lookup, merge for one dict\n",
    "lowercase_dict = dict(zip(lowercase,lowercase_vals))\n",
    "uppercase_dict = dict(zip(uppercase,uppercase_vals))"
   ]
  },
  {
   "cell_type": "markdown",
   "id": "2c8c9f7a",
   "metadata": {},
   "source": [
    "# Part I"
   ]
  },
  {
   "cell_type": "code",
   "execution_count": 89,
   "id": "37d47880",
   "metadata": {},
   "outputs": [],
   "source": [
    "# Parse string input, return similar characters\n",
    "def parse_comparments(s):\n",
    "    \n",
    "    split = int(len(s)/2) # Initalize midpoint for string split\n",
    "    \n",
    "    c1 = s[:split] # Parse comparment 1\n",
    "    c2 = s[split:] # Parse compartment 2\n",
    "    \n",
    "    c1_list = [a for a in c1] \n",
    "    c2_list = [b for b in c2]\n",
    "    \n",
    "    similar_items_l = [c for c in c1_list if c in c2_list] # Can also use sets -> set(c1_list) & set(c2_list)\n",
    "    similar_items_unique = set(similar_items_l)\n",
    "    similar_items = list(similar_items_unique)\n",
    "    \n",
    "    return similar_items"
   ]
  },
  {
   "cell_type": "code",
   "execution_count": 90,
   "id": "78e6ef92",
   "metadata": {},
   "outputs": [],
   "source": [
    "# Lookup similar characters value in dict\n",
    "def val_lookup(l):\n",
    "    \n",
    "    total = 0\n",
    "    \n",
    "    for i in l:\n",
    "        if i in lowercase_dict.keys():\n",
    "            val = lowercase_dict.get(i)\n",
    "            total += val\n",
    "        else:\n",
    "            val = uppercase_dict.get(i)\n",
    "            total += val\n",
    "            \n",
    "    return total       "
   ]
  },
  {
   "cell_type": "code",
   "execution_count": 91,
   "id": "0f6f9a1c",
   "metadata": {},
   "outputs": [],
   "source": [
    "def p1_main(df):\n",
    "    \n",
    "    total = 0\n",
    "    \n",
    "    for i in df:\n",
    "        \n",
    "        similar_items = parse_comparments(i)\n",
    "        points = val_lookup(similar_items)\n",
    "        total += points\n",
    "        \n",
    "    return f'Total: {total}'"
   ]
  },
  {
   "cell_type": "code",
   "execution_count": 92,
   "id": "241c5bdb",
   "metadata": {},
   "outputs": [
    {
     "name": "stdout",
     "output_type": "stream",
     "text": [
      "Total: 8243\n"
     ]
    }
   ],
   "source": [
    "print(p1_main(dataset))"
   ]
  },
  {
   "cell_type": "markdown",
   "id": "04ed9a99",
   "metadata": {},
   "source": [
    "# Part II"
   ]
  },
  {
   "cell_type": "code",
   "execution_count": 93,
   "id": "9d827b8a",
   "metadata": {},
   "outputs": [],
   "source": [
    "def parse_groups(s1,s2,s3):\n",
    "    \n",
    "    s1_l = [a for a in s1]\n",
    "    s2_l = [b for b in s2]\n",
    "    s3_l = [c for c in s3]\n",
    "    \n",
    "    similar_items_l = [d for d in s1_l if d in s2_l and d in s3_l ] \n",
    "    similar_items_unique = set(similar_items_l)\n",
    "    similar_items = list(similar_items_unique)\n",
    "    \n",
    "    return similar_items"
   ]
  },
  {
   "cell_type": "code",
   "execution_count": 94,
   "id": "eb1d7f6f",
   "metadata": {},
   "outputs": [],
   "source": [
    "def chunk_df(df):\n",
    "    \n",
    "    chunkSize = 3\n",
    "    dfToList = df.tolist()\n",
    "    dfLen = len(dfToList)\n",
    "    chunkList = [dfToList[i:i+chunkSize] for i in range(0,dfLen,chunkSize)]\n",
    "    \n",
    "    return chunkList"
   ]
  },
  {
   "cell_type": "code",
   "execution_count": 95,
   "id": "172c362e",
   "metadata": {},
   "outputs": [],
   "source": [
    "def p2_main(df):\n",
    "    \n",
    "    total = 0\n",
    "    groups = chunk_df(df)\n",
    "    \n",
    "    for i in groups:\n",
    "        \n",
    "        similar_items = parse_groups(i[0],i[1],i[2])\n",
    "        points = val_lookup(similar_items)\n",
    "        total += points\n",
    "        \n",
    "    return f'Total: {total}'"
   ]
  },
  {
   "cell_type": "code",
   "execution_count": 96,
   "id": "9eb80488",
   "metadata": {},
   "outputs": [
    {
     "name": "stdout",
     "output_type": "stream",
     "text": [
      "Total: 2631\n"
     ]
    }
   ],
   "source": [
    "print(p2_main(dataset))"
   ]
  }
 ],
 "metadata": {
  "kernelspec": {
   "display_name": "Python 3 (ipykernel)",
   "language": "python",
   "name": "python3"
  },
  "language_info": {
   "codemirror_mode": {
    "name": "ipython",
    "version": 3
   },
   "file_extension": ".py",
   "mimetype": "text/x-python",
   "name": "python",
   "nbconvert_exporter": "python",
   "pygments_lexer": "ipython3",
   "version": "3.9.12"
  }
 },
 "nbformat": 4,
 "nbformat_minor": 5
}
